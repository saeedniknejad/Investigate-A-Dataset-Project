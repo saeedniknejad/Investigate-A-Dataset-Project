{
 "cells": [
  {
   "cell_type": "markdown",
   "metadata": {},
   "source": [
    "\n",
    "# Project: Investigate a Dataset (No-Show Appointments)\n",
    "\n",
    "## Table of Contents\n",
    "<ul>\n",
    "<li><a href=\"#intro\">Introduction</a></li>\n",
    "<li><a href=\"#wrangling\">Data Wrangling</a></li>\n",
    "<li><a href=\"#eda\">Exploratory Data Analysis</a></li>\n",
    "<li><a href=\"#conclusions\">Conclusions</a></li>\n",
    "</uld>\n"
   ]
  },
  {
   "cell_type": "markdown",
   "metadata": {},
   "source": [
    "<a id='intro'></a>\n",
    "## Introduction\n",
    "\n",
    "> No-show appointments dataset has been collected from 100k medical appointments information in\n",
    "Brazil and is focused on the question\n",
    "of whether or not patients show up\n",
    "for their appointment. I downloaded it from the link provided in Project details (Kaggle website).\n",
    "A number of\n",
    "characteristics about the patient are\n",
    "included in each row which some of them need to be clarified as below:\n",
    "\n",
    "> ● ‘ScheduledDay’ tells us on\n",
    "what day the patient set up their\n",
    "appointment.\n",
    "\n",
    "> ● ‘Neighborhood’ indicates the\n",
    "location of the hospital.\n",
    "\n",
    "> ● ‘Scholarship’ indicates\n",
    "whether or not the patient is\n",
    "enrolled in Brasilian welfare\n",
    "program Bolsa Família.\n",
    "\n",
    "> ● Be careful about the encoding\n",
    "of the last column: it says ‘No’ if\n",
    "the patient showed up to their\n",
    "appointment, and ‘Yes’ if they\n",
    "did not show up.\n",
    "\n",
    "> The dataset was loaded and assessed quickly to see the size, format, data type and whether it needs any cleaning, filtering, etc. After completing Data wrangling step in which assured the dataset works, Exploratory Data Analysis was done to understand the data in more detail and get what it says. All the above mentioned processes are going to answer these three questions in detail:\n",
    "- Q1: Are people with pre existing consitions showing up to their appointments at a higher rate?\n",
    "- Q2: Does the time difference between booking and the appointment has any effect on people showing up?\n",
    "- Q3: How sending or not sending an SMS can impact on missing an appointment?\n",
    "\n",
    "\n"
   ]
  },
  {
   "cell_type": "markdown",
   "metadata": {},
   "source": [
    "First things first,to start the project, the packages that might be required are loaded as below:"
   ]
  },
  {
   "cell_type": "code",
   "execution_count": 1,
   "metadata": {},
   "outputs": [],
   "source": [
    "import pandas as pd\n",
    "import numpy as np\n",
    "import matplotlib.pyplot as plt\n",
    "import seaborn as sns\n",
    "import math\n",
    "%matplotlib inline"
   ]
  },
  {
   "cell_type": "markdown",
   "metadata": {},
   "source": [
    "<a id='wrangling'></a>\n",
    "## Data Wrangling\n",
    "\n",
    "At this step, the dataset is loaded and printed out a couple of line to get more familiar with the appearnace."
   ]
  },
  {
   "cell_type": "code",
   "execution_count": 2,
   "metadata": {},
   "outputs": [
    {
     "data": {
      "text/html": [
       "<div>\n",
       "<style scoped>\n",
       "    .dataframe tbody tr th:only-of-type {\n",
       "        vertical-align: middle;\n",
       "    }\n",
       "\n",
       "    .dataframe tbody tr th {\n",
       "        vertical-align: top;\n",
       "    }\n",
       "\n",
       "    .dataframe thead th {\n",
       "        text-align: right;\n",
       "    }\n",
       "</style>\n",
       "<table border=\"1\" class=\"dataframe\">\n",
       "  <thead>\n",
       "    <tr style=\"text-align: right;\">\n",
       "      <th></th>\n",
       "      <th>PatientId</th>\n",
       "      <th>AppointmentID</th>\n",
       "      <th>Gender</th>\n",
       "      <th>ScheduledDay</th>\n",
       "      <th>AppointmentDay</th>\n",
       "      <th>Age</th>\n",
       "      <th>Neighbourhood</th>\n",
       "      <th>Scholarship</th>\n",
       "      <th>Hipertension</th>\n",
       "      <th>Diabetes</th>\n",
       "      <th>Alcoholism</th>\n",
       "      <th>Handcap</th>\n",
       "      <th>SMS_received</th>\n",
       "      <th>No-show</th>\n",
       "    </tr>\n",
       "  </thead>\n",
       "  <tbody>\n",
       "    <tr>\n",
       "      <th>0</th>\n",
       "      <td>2.987250e+13</td>\n",
       "      <td>5642903</td>\n",
       "      <td>F</td>\n",
       "      <td>2016-04-29T18:38:08Z</td>\n",
       "      <td>2016-04-29T00:00:00Z</td>\n",
       "      <td>62</td>\n",
       "      <td>JARDIM DA PENHA</td>\n",
       "      <td>0</td>\n",
       "      <td>1</td>\n",
       "      <td>0</td>\n",
       "      <td>0</td>\n",
       "      <td>0</td>\n",
       "      <td>0</td>\n",
       "      <td>No</td>\n",
       "    </tr>\n",
       "    <tr>\n",
       "      <th>1</th>\n",
       "      <td>5.589978e+14</td>\n",
       "      <td>5642503</td>\n",
       "      <td>M</td>\n",
       "      <td>2016-04-29T16:08:27Z</td>\n",
       "      <td>2016-04-29T00:00:00Z</td>\n",
       "      <td>56</td>\n",
       "      <td>JARDIM DA PENHA</td>\n",
       "      <td>0</td>\n",
       "      <td>0</td>\n",
       "      <td>0</td>\n",
       "      <td>0</td>\n",
       "      <td>0</td>\n",
       "      <td>0</td>\n",
       "      <td>No</td>\n",
       "    </tr>\n",
       "    <tr>\n",
       "      <th>2</th>\n",
       "      <td>4.262962e+12</td>\n",
       "      <td>5642549</td>\n",
       "      <td>F</td>\n",
       "      <td>2016-04-29T16:19:04Z</td>\n",
       "      <td>2016-04-29T00:00:00Z</td>\n",
       "      <td>62</td>\n",
       "      <td>MATA DA PRAIA</td>\n",
       "      <td>0</td>\n",
       "      <td>0</td>\n",
       "      <td>0</td>\n",
       "      <td>0</td>\n",
       "      <td>0</td>\n",
       "      <td>0</td>\n",
       "      <td>No</td>\n",
       "    </tr>\n",
       "    <tr>\n",
       "      <th>3</th>\n",
       "      <td>8.679512e+11</td>\n",
       "      <td>5642828</td>\n",
       "      <td>F</td>\n",
       "      <td>2016-04-29T17:29:31Z</td>\n",
       "      <td>2016-04-29T00:00:00Z</td>\n",
       "      <td>8</td>\n",
       "      <td>PONTAL DE CAMBURI</td>\n",
       "      <td>0</td>\n",
       "      <td>0</td>\n",
       "      <td>0</td>\n",
       "      <td>0</td>\n",
       "      <td>0</td>\n",
       "      <td>0</td>\n",
       "      <td>No</td>\n",
       "    </tr>\n",
       "    <tr>\n",
       "      <th>4</th>\n",
       "      <td>8.841186e+12</td>\n",
       "      <td>5642494</td>\n",
       "      <td>F</td>\n",
       "      <td>2016-04-29T16:07:23Z</td>\n",
       "      <td>2016-04-29T00:00:00Z</td>\n",
       "      <td>56</td>\n",
       "      <td>JARDIM DA PENHA</td>\n",
       "      <td>0</td>\n",
       "      <td>1</td>\n",
       "      <td>1</td>\n",
       "      <td>0</td>\n",
       "      <td>0</td>\n",
       "      <td>0</td>\n",
       "      <td>No</td>\n",
       "    </tr>\n",
       "  </tbody>\n",
       "</table>\n",
       "</div>"
      ],
      "text/plain": [
       "      PatientId  AppointmentID Gender          ScheduledDay  \\\n",
       "0  2.987250e+13        5642903      F  2016-04-29T18:38:08Z   \n",
       "1  5.589978e+14        5642503      M  2016-04-29T16:08:27Z   \n",
       "2  4.262962e+12        5642549      F  2016-04-29T16:19:04Z   \n",
       "3  8.679512e+11        5642828      F  2016-04-29T17:29:31Z   \n",
       "4  8.841186e+12        5642494      F  2016-04-29T16:07:23Z   \n",
       "\n",
       "         AppointmentDay  Age      Neighbourhood  Scholarship  Hipertension  \\\n",
       "0  2016-04-29T00:00:00Z   62    JARDIM DA PENHA            0             1   \n",
       "1  2016-04-29T00:00:00Z   56    JARDIM DA PENHA            0             0   \n",
       "2  2016-04-29T00:00:00Z   62      MATA DA PRAIA            0             0   \n",
       "3  2016-04-29T00:00:00Z    8  PONTAL DE CAMBURI            0             0   \n",
       "4  2016-04-29T00:00:00Z   56    JARDIM DA PENHA            0             1   \n",
       "\n",
       "   Diabetes  Alcoholism  Handcap  SMS_received No-show  \n",
       "0         0           0        0             0      No  \n",
       "1         0           0        0             0      No  \n",
       "2         0           0        0             0      No  \n",
       "3         0           0        0             0      No  \n",
       "4         1           0        0             0      No  "
      ]
     },
     "execution_count": 2,
     "metadata": {},
     "output_type": "execute_result"
    }
   ],
   "source": [
    "# Data set is loaded and seen\n",
    "df_noshow=pd.read_csv('KaggleV2-May-2016.csv')\n",
    "df_noshow.head()"
   ]
  },
  {
   "cell_type": "markdown",
   "metadata": {},
   "source": [
    "At a glance, I'm not cofortable with \"PatientId\", \"ScheduledDay\" and \"AppointmentDay\" columns as they don't look like what are expected to be so the next step is going through the dataset in more detail."
   ]
  },
  {
   "cell_type": "code",
   "execution_count": 3,
   "metadata": {},
   "outputs": [
    {
     "data": {
      "text/plain": [
       "(110527, 14)"
      ]
     },
     "execution_count": 3,
     "metadata": {},
     "output_type": "execute_result"
    }
   ],
   "source": [
    "# Size of the dataset\n",
    "df_noshow.shape"
   ]
  },
  {
   "cell_type": "markdown",
   "metadata": {},
   "source": [
    "This showed the size of the dataset which includes 110527 rows and 14 columns."
   ]
  },
  {
   "cell_type": "code",
   "execution_count": 4,
   "metadata": {},
   "outputs": [
    {
     "name": "stdout",
     "output_type": "stream",
     "text": [
      "<class 'pandas.core.frame.DataFrame'>\n",
      "RangeIndex: 110527 entries, 0 to 110526\n",
      "Data columns (total 14 columns):\n",
      "PatientId         110527 non-null float64\n",
      "AppointmentID     110527 non-null int64\n",
      "Gender            110527 non-null object\n",
      "ScheduledDay      110527 non-null object\n",
      "AppointmentDay    110527 non-null object\n",
      "Age               110527 non-null int64\n",
      "Neighbourhood     110527 non-null object\n",
      "Scholarship       110527 non-null int64\n",
      "Hipertension      110527 non-null int64\n",
      "Diabetes          110527 non-null int64\n",
      "Alcoholism        110527 non-null int64\n",
      "Handcap           110527 non-null int64\n",
      "SMS_received      110527 non-null int64\n",
      "No-show           110527 non-null object\n",
      "dtypes: float64(1), int64(8), object(5)\n",
      "memory usage: 11.8+ MB\n"
     ]
    }
   ],
   "source": [
    "df_noshow.info()"
   ]
  },
  {
   "cell_type": "markdown",
   "metadata": {},
   "source": [
    "Here, I showed the general information of the dataset and the data-type for each variable.\n",
    "\n",
    "First, obviously there is no missing data.\n",
    "\n",
    "Second, the data-types of columns \"PatientId\", \"ScheduledDay\" and \"AppointmentDay\" should be changed since PatientId should be Integer and the other two columns must be in Date-Time format."
   ]
  },
  {
   "cell_type": "code",
   "execution_count": 5,
   "metadata": {},
   "outputs": [
    {
     "name": "stdout",
     "output_type": "stream",
     "text": [
      "<class 'pandas.core.frame.DataFrame'>\n",
      "RangeIndex: 110527 entries, 0 to 110526\n",
      "Data columns (total 14 columns):\n",
      "PatientId         110527 non-null int64\n",
      "AppointmentID     110527 non-null int64\n",
      "Gender            110527 non-null object\n",
      "ScheduledDay      110527 non-null datetime64[ns, UTC]\n",
      "AppointmentDay    110527 non-null datetime64[ns, UTC]\n",
      "Age               110527 non-null int64\n",
      "Neighbourhood     110527 non-null object\n",
      "Scholarship       110527 non-null int64\n",
      "Hipertension      110527 non-null int64\n",
      "Diabetes          110527 non-null int64\n",
      "Alcoholism        110527 non-null int64\n",
      "Handcap           110527 non-null int64\n",
      "SMS_received      110527 non-null int64\n",
      "No-show           110527 non-null object\n",
      "dtypes: datetime64[ns, UTC](2), int64(9), object(3)\n",
      "memory usage: 11.8+ MB\n"
     ]
    }
   ],
   "source": [
    "# Data type correction for columns \"PatientId\", \"ScheduledDay\" and \"AppointmentDay\" and test it.\n",
    "df_noshow['PatientId']=df_noshow['PatientId'].astype('int64')\n",
    "df_noshow['ScheduledDay']=pd.to_datetime(df_noshow['ScheduledDay'])\n",
    "df_noshow['AppointmentDay']=pd.to_datetime(df_noshow['AppointmentDay'])\n",
    "df_noshow.info()"
   ]
  },
  {
   "cell_type": "markdown",
   "metadata": {},
   "source": [
    "\"PatientId\" was converted to Integer datatype and \"ScheduledDay\", \"AppointmentDay\" columns have been changed to date-time format."
   ]
  },
  {
   "cell_type": "code",
   "execution_count": 6,
   "metadata": {},
   "outputs": [
    {
     "data": {
      "text/plain": [
       "PatientId          62299\n",
       "AppointmentID     110527\n",
       "Gender                 2\n",
       "ScheduledDay      103549\n",
       "AppointmentDay        27\n",
       "Age                  104\n",
       "Neighbourhood         81\n",
       "Scholarship            2\n",
       "Hipertension           2\n",
       "Diabetes               2\n",
       "Alcoholism             2\n",
       "Handcap                5\n",
       "SMS_received           2\n",
       "No-show                2\n",
       "dtype: int64"
      ]
     },
     "execution_count": 6,
     "metadata": {},
     "output_type": "execute_result"
    }
   ],
   "source": [
    "# Number of unique entries in each field\n",
    "df_noshow.nunique()"
   ]
  },
  {
   "cell_type": "markdown",
   "metadata": {},
   "source": [
    "Here, It shows that \"AppointmentID\" is the only column with no duplicates so It can be the Primary Key of the dataset. It is useful if the dataset suppose to be combined with other data files. Below,  the result of the code shows that there is no duplicated row in dataset."
   ]
  },
  {
   "cell_type": "code",
   "execution_count": 7,
   "metadata": {},
   "outputs": [
    {
     "data": {
      "text/plain": [
       "0"
      ]
     },
     "execution_count": 7,
     "metadata": {},
     "output_type": "execute_result"
    }
   ],
   "source": [
    "# Check if there is duplicated row\n",
    "sum(df_noshow.duplicated())"
   ]
  },
  {
   "cell_type": "code",
   "execution_count": 8,
   "metadata": {},
   "outputs": [
    {
     "data": {
      "text/html": [
       "<div>\n",
       "<style scoped>\n",
       "    .dataframe tbody tr th:only-of-type {\n",
       "        vertical-align: middle;\n",
       "    }\n",
       "\n",
       "    .dataframe tbody tr th {\n",
       "        vertical-align: top;\n",
       "    }\n",
       "\n",
       "    .dataframe thead th {\n",
       "        text-align: right;\n",
       "    }\n",
       "</style>\n",
       "<table border=\"1\" class=\"dataframe\">\n",
       "  <thead>\n",
       "    <tr style=\"text-align: right;\">\n",
       "      <th></th>\n",
       "      <th>PatientId</th>\n",
       "      <th>AppointmentID</th>\n",
       "      <th>Age</th>\n",
       "      <th>Scholarship</th>\n",
       "      <th>Hipertension</th>\n",
       "      <th>Diabetes</th>\n",
       "      <th>Alcoholism</th>\n",
       "      <th>Handcap</th>\n",
       "      <th>SMS_received</th>\n",
       "    </tr>\n",
       "  </thead>\n",
       "  <tbody>\n",
       "    <tr>\n",
       "      <th>count</th>\n",
       "      <td>1.105270e+05</td>\n",
       "      <td>1.105270e+05</td>\n",
       "      <td>110527.000000</td>\n",
       "      <td>110527.000000</td>\n",
       "      <td>110527.000000</td>\n",
       "      <td>110527.000000</td>\n",
       "      <td>110527.000000</td>\n",
       "      <td>110527.000000</td>\n",
       "      <td>110527.000000</td>\n",
       "    </tr>\n",
       "    <tr>\n",
       "      <th>mean</th>\n",
       "      <td>1.474963e+14</td>\n",
       "      <td>5.675305e+06</td>\n",
       "      <td>37.088874</td>\n",
       "      <td>0.098266</td>\n",
       "      <td>0.197246</td>\n",
       "      <td>0.071865</td>\n",
       "      <td>0.030400</td>\n",
       "      <td>0.022248</td>\n",
       "      <td>0.321026</td>\n",
       "    </tr>\n",
       "    <tr>\n",
       "      <th>std</th>\n",
       "      <td>2.560949e+14</td>\n",
       "      <td>7.129575e+04</td>\n",
       "      <td>23.110205</td>\n",
       "      <td>0.297675</td>\n",
       "      <td>0.397921</td>\n",
       "      <td>0.258265</td>\n",
       "      <td>0.171686</td>\n",
       "      <td>0.161543</td>\n",
       "      <td>0.466873</td>\n",
       "    </tr>\n",
       "    <tr>\n",
       "      <th>min</th>\n",
       "      <td>3.921700e+04</td>\n",
       "      <td>5.030230e+06</td>\n",
       "      <td>-1.000000</td>\n",
       "      <td>0.000000</td>\n",
       "      <td>0.000000</td>\n",
       "      <td>0.000000</td>\n",
       "      <td>0.000000</td>\n",
       "      <td>0.000000</td>\n",
       "      <td>0.000000</td>\n",
       "    </tr>\n",
       "    <tr>\n",
       "      <th>25%</th>\n",
       "      <td>4.172614e+12</td>\n",
       "      <td>5.640286e+06</td>\n",
       "      <td>18.000000</td>\n",
       "      <td>0.000000</td>\n",
       "      <td>0.000000</td>\n",
       "      <td>0.000000</td>\n",
       "      <td>0.000000</td>\n",
       "      <td>0.000000</td>\n",
       "      <td>0.000000</td>\n",
       "    </tr>\n",
       "    <tr>\n",
       "      <th>50%</th>\n",
       "      <td>3.173184e+13</td>\n",
       "      <td>5.680573e+06</td>\n",
       "      <td>37.000000</td>\n",
       "      <td>0.000000</td>\n",
       "      <td>0.000000</td>\n",
       "      <td>0.000000</td>\n",
       "      <td>0.000000</td>\n",
       "      <td>0.000000</td>\n",
       "      <td>0.000000</td>\n",
       "    </tr>\n",
       "    <tr>\n",
       "      <th>75%</th>\n",
       "      <td>9.439172e+13</td>\n",
       "      <td>5.725524e+06</td>\n",
       "      <td>55.000000</td>\n",
       "      <td>0.000000</td>\n",
       "      <td>0.000000</td>\n",
       "      <td>0.000000</td>\n",
       "      <td>0.000000</td>\n",
       "      <td>0.000000</td>\n",
       "      <td>1.000000</td>\n",
       "    </tr>\n",
       "    <tr>\n",
       "      <th>max</th>\n",
       "      <td>9.999816e+14</td>\n",
       "      <td>5.790484e+06</td>\n",
       "      <td>115.000000</td>\n",
       "      <td>1.000000</td>\n",
       "      <td>1.000000</td>\n",
       "      <td>1.000000</td>\n",
       "      <td>1.000000</td>\n",
       "      <td>4.000000</td>\n",
       "      <td>1.000000</td>\n",
       "    </tr>\n",
       "  </tbody>\n",
       "</table>\n",
       "</div>"
      ],
      "text/plain": [
       "          PatientId  AppointmentID            Age    Scholarship  \\\n",
       "count  1.105270e+05   1.105270e+05  110527.000000  110527.000000   \n",
       "mean   1.474963e+14   5.675305e+06      37.088874       0.098266   \n",
       "std    2.560949e+14   7.129575e+04      23.110205       0.297675   \n",
       "min    3.921700e+04   5.030230e+06      -1.000000       0.000000   \n",
       "25%    4.172614e+12   5.640286e+06      18.000000       0.000000   \n",
       "50%    3.173184e+13   5.680573e+06      37.000000       0.000000   \n",
       "75%    9.439172e+13   5.725524e+06      55.000000       0.000000   \n",
       "max    9.999816e+14   5.790484e+06     115.000000       1.000000   \n",
       "\n",
       "        Hipertension       Diabetes     Alcoholism        Handcap  \\\n",
       "count  110527.000000  110527.000000  110527.000000  110527.000000   \n",
       "mean        0.197246       0.071865       0.030400       0.022248   \n",
       "std         0.397921       0.258265       0.171686       0.161543   \n",
       "min         0.000000       0.000000       0.000000       0.000000   \n",
       "25%         0.000000       0.000000       0.000000       0.000000   \n",
       "50%         0.000000       0.000000       0.000000       0.000000   \n",
       "75%         0.000000       0.000000       0.000000       0.000000   \n",
       "max         1.000000       1.000000       1.000000       4.000000   \n",
       "\n",
       "        SMS_received  \n",
       "count  110527.000000  \n",
       "mean        0.321026  \n",
       "std         0.466873  \n",
       "min         0.000000  \n",
       "25%         0.000000  \n",
       "50%         0.000000  \n",
       "75%         1.000000  \n",
       "max         1.000000  "
      ]
     },
     "execution_count": 8,
     "metadata": {},
     "output_type": "execute_result"
    }
   ],
   "source": [
    "# Simple and quick check of the data statistics\n",
    "df_noshow.describe()"
   ]
  },
  {
   "cell_type": "markdown",
   "metadata": {},
   "source": [
    "The dataset statistics shows that there are patients with distinct ages ranging from new born to 115 years old with average of 37 years old. On the other hand, \"Scholarship\", \"Hipertension\",\t\"Diabetes\",\t\"Alcoholism\" and \"SMS_received\" columns are all    booly data type (0 and 1). \"Handcap\" is a discrete value between 0 to 4.\n",
    "\n",
    "Obviously, there is an error in \"Age\" values since the min shows -1 which can not be correct. So, let see how big is this issue."
   ]
  },
  {
   "cell_type": "code",
   "execution_count": 9,
   "metadata": {
    "scrolled": true
   },
   "outputs": [
    {
     "data": {
      "text/html": [
       "<div>\n",
       "<style scoped>\n",
       "    .dataframe tbody tr th:only-of-type {\n",
       "        vertical-align: middle;\n",
       "    }\n",
       "\n",
       "    .dataframe tbody tr th {\n",
       "        vertical-align: top;\n",
       "    }\n",
       "\n",
       "    .dataframe thead th {\n",
       "        text-align: right;\n",
       "    }\n",
       "</style>\n",
       "<table border=\"1\" class=\"dataframe\">\n",
       "  <thead>\n",
       "    <tr style=\"text-align: right;\">\n",
       "      <th></th>\n",
       "      <th>PatientId</th>\n",
       "      <th>AppointmentID</th>\n",
       "      <th>Gender</th>\n",
       "      <th>ScheduledDay</th>\n",
       "      <th>AppointmentDay</th>\n",
       "      <th>Age</th>\n",
       "      <th>Neighbourhood</th>\n",
       "      <th>Scholarship</th>\n",
       "      <th>Hipertension</th>\n",
       "      <th>Diabetes</th>\n",
       "      <th>Alcoholism</th>\n",
       "      <th>Handcap</th>\n",
       "      <th>SMS_received</th>\n",
       "      <th>No-show</th>\n",
       "    </tr>\n",
       "  </thead>\n",
       "  <tbody>\n",
       "    <tr>\n",
       "      <th>99832</th>\n",
       "      <td>465943158731293</td>\n",
       "      <td>5775010</td>\n",
       "      <td>F</td>\n",
       "      <td>2016-06-06 08:58:13+00:00</td>\n",
       "      <td>2016-06-06 00:00:00+00:00</td>\n",
       "      <td>-1</td>\n",
       "      <td>ROMÃO</td>\n",
       "      <td>0</td>\n",
       "      <td>0</td>\n",
       "      <td>0</td>\n",
       "      <td>0</td>\n",
       "      <td>0</td>\n",
       "      <td>0</td>\n",
       "      <td>No</td>\n",
       "    </tr>\n",
       "  </tbody>\n",
       "</table>\n",
       "</div>"
      ],
      "text/plain": [
       "             PatientId  AppointmentID Gender              ScheduledDay  \\\n",
       "99832  465943158731293        5775010      F 2016-06-06 08:58:13+00:00   \n",
       "\n",
       "                 AppointmentDay  Age Neighbourhood  Scholarship  Hipertension  \\\n",
       "99832 2016-06-06 00:00:00+00:00   -1         ROMÃO            0             0   \n",
       "\n",
       "       Diabetes  Alcoholism  Handcap  SMS_received No-show  \n",
       "99832         0           0        0             0      No  "
      ]
     },
     "execution_count": 9,
     "metadata": {},
     "output_type": "execute_result"
    }
   ],
   "source": [
    "# How many rows have \"Age\" values below 0.\n",
    "df_noshow[df_noshow['Age']< 0]"
   ]
  },
  {
   "cell_type": "code",
   "execution_count": 10,
   "metadata": {},
   "outputs": [],
   "source": [
    "# Removing the row with \"Age\" value below 0.\n",
    "df_noshow = df_noshow[df_noshow.Age >= 0]"
   ]
  },
  {
   "cell_type": "code",
   "execution_count": 11,
   "metadata": {},
   "outputs": [
    {
     "data": {
      "text/plain": [
       "0"
      ]
     },
     "execution_count": 11,
     "metadata": {},
     "output_type": "execute_result"
    }
   ],
   "source": [
    "# Test to prove there is no value less than 0 for \"Age\".\n",
    "df_noshow['Age'].min()"
   ]
  },
  {
   "cell_type": "markdown",
   "metadata": {},
   "source": [
    "There is only one row with Age value of \"-1\" which is incorrect so It was removed from the data set.\n",
    "\n",
    "Now, the dataset is ready to be explored."
   ]
  },
  {
   "cell_type": "markdown",
   "metadata": {},
   "source": [
    "<a id='eda'></a>\n",
    "## Exploratory Data Analysis"
   ]
  },
  {
   "cell_type": "markdown",
   "metadata": {},
   "source": [
    "The dataset needs more investigation to explore distinct parameters and their relationships prior to jumping in to the specific questions and their answers.\n",
    "\n",
    "Data visualization by making some graphs is very good idea to get the better understanding of the dataset and its elements which will be quite helpful to draw our questions and conclusions.\n",
    "\n",
    "Below, there examples of the graphs have been drawn to find the relationship between different parameters."
   ]
  },
  {
   "cell_type": "code",
   "execution_count": 12,
   "metadata": {},
   "outputs": [
    {
     "data": {
      "image/png": "[encoded data removed]",
      "text/plain": [
       "<Figure size 576x576 with 1 Axes>"
      ]
     },
     "metadata": {},
     "output_type": "display_data"
    }
   ],
   "source": [
    "# Number of people who showed up with regards their gender.\n",
    "df_noshow.groupby('Gender') ['No-show'].value_counts().plot(kind='pie', title='No-show vs Gender', figsize=(8,8));"
   ]
  },
  {
   "cell_type": "code",
   "execution_count": 13,
   "metadata": {},
   "outputs": [
    {
     "data": {
      "image/png": "[encoded data removed]",
      "text/plain": [
       "<Figure size 432x288 with 1 Axes>"
      ]
     },
     "metadata": {
      "needs_background": "light"
     },
     "output_type": "display_data"
    }
   ],
   "source": [
    "# Number of people who showed up with or without Hipertension. Seaborn library has been used.\n",
    "sns.countplot('Hipertension',data=df_noshow,palette='bright',hue='No-show').set_title(\"Hipertension vs No-Show\");\n",
    "sns.despine(left=True)"
   ]
  },
  {
   "cell_type": "code",
   "execution_count": 14,
   "metadata": {},
   "outputs": [
    {
     "data": {
      "image/png": "[encoded data removed]",
      "text/plain": [
       "<Figure size 432x288 with 1 Axes>"
      ]
     },
     "metadata": {
      "needs_background": "light"
     },
     "output_type": "display_data"
    }
   ],
   "source": [
    "# Age of the people who showed up or did not with regards their gender. Seaborn library has been used.\n",
    "sns.boxplot(x=\"Age\", y=\"No-show\", data=df_noshow, hue='Gender',palette='muted').set_title(\"No-Show vs Age coloured by Gender\");"
   ]
  },
  {
   "cell_type": "markdown",
   "metadata": {},
   "source": [
    "After investigating the relatioship between different parameters with No-show, then there is an idea that the time difference between the Scheduled and Appointment days might be meaningful in terms of the patient's show up. Let's dig in a bit more."
   ]
  },
  {
   "cell_type": "code",
   "execution_count": 15,
   "metadata": {},
   "outputs": [],
   "source": [
    "#Making a new field in the dataset by calculating the time difference (time_diff) between the Scheduled day and Appointment day.\n",
    "df_noshow['time_diff']=df_noshow['AppointmentDay'].apply(pd.Timestamp.date) -df_noshow['ScheduledDay'].apply(pd.Timestamp.date) "
   ]
  },
  {
   "cell_type": "code",
   "execution_count": 16,
   "metadata": {},
   "outputs": [
    {
     "name": "stdout",
     "output_type": "stream",
     "text": [
      "<class 'pandas.core.frame.DataFrame'>\n",
      "Int64Index: 110526 entries, 0 to 110526\n",
      "Data columns (total 15 columns):\n",
      "PatientId         110526 non-null int64\n",
      "AppointmentID     110526 non-null int64\n",
      "Gender            110526 non-null object\n",
      "ScheduledDay      110526 non-null datetime64[ns, UTC]\n",
      "AppointmentDay    110526 non-null datetime64[ns, UTC]\n",
      "Age               110526 non-null int64\n",
      "Neighbourhood     110526 non-null object\n",
      "Scholarship       110526 non-null int64\n",
      "Hipertension      110526 non-null int64\n",
      "Diabetes          110526 non-null int64\n",
      "Alcoholism        110526 non-null int64\n",
      "Handcap           110526 non-null int64\n",
      "SMS_received      110526 non-null int64\n",
      "No-show           110526 non-null object\n",
      "time_diff         110526 non-null timedelta64[ns]\n",
      "dtypes: datetime64[ns, UTC](2), int64(9), object(3), timedelta64[ns](1)\n",
      "memory usage: 18.5+ MB\n"
     ]
    }
   ],
   "source": [
    "# Test the dataset with regards the 'time_diff' creation and its datatype.\n",
    "df_noshow.info()"
   ]
  },
  {
   "cell_type": "code",
   "execution_count": 17,
   "metadata": {},
   "outputs": [
    {
     "data": {
      "text/plain": [
       "count                     110526\n",
       "mean     10 days 04:24:39.789370\n",
       "std      15 days 06:07:14.979140\n",
       "min            -6 days +00:00:00\n",
       "25%              0 days 00:00:00\n",
       "50%              4 days 00:00:00\n",
       "75%             15 days 00:00:00\n",
       "max            179 days 00:00:00\n",
       "Name: time_diff, dtype: object"
      ]
     },
     "execution_count": 17,
     "metadata": {},
     "output_type": "execute_result"
    }
   ],
   "source": [
    "# Check inside 'time_diff' to see whether there is any isue.\n",
    "df_noshow['time_diff'].describe()"
   ]
  },
  {
   "cell_type": "markdown",
   "metadata": {},
   "source": [
    "Again, the time between the scheduled and Appointment days can not have negative value since Appointment days always are later or at the same day of the scheduled days. So the data set needs to be cleaned to address this issue."
   ]
  },
  {
   "cell_type": "code",
   "execution_count": 18,
   "metadata": {},
   "outputs": [
    {
     "data": {
      "text/html": [
       "<div>\n",
       "<style scoped>\n",
       "    .dataframe tbody tr th:only-of-type {\n",
       "        vertical-align: middle;\n",
       "    }\n",
       "\n",
       "    .dataframe tbody tr th {\n",
       "        vertical-align: top;\n",
       "    }\n",
       "\n",
       "    .dataframe thead th {\n",
       "        text-align: right;\n",
       "    }\n",
       "</style>\n",
       "<table border=\"1\" class=\"dataframe\">\n",
       "  <thead>\n",
       "    <tr style=\"text-align: right;\">\n",
       "      <th></th>\n",
       "      <th>PatientId</th>\n",
       "      <th>AppointmentID</th>\n",
       "      <th>Gender</th>\n",
       "      <th>ScheduledDay</th>\n",
       "      <th>AppointmentDay</th>\n",
       "      <th>Age</th>\n",
       "      <th>Neighbourhood</th>\n",
       "      <th>Scholarship</th>\n",
       "      <th>Hipertension</th>\n",
       "      <th>Diabetes</th>\n",
       "      <th>Alcoholism</th>\n",
       "      <th>Handcap</th>\n",
       "      <th>SMS_received</th>\n",
       "      <th>No-show</th>\n",
       "      <th>time_diff</th>\n",
       "    </tr>\n",
       "  </thead>\n",
       "  <tbody>\n",
       "    <tr>\n",
       "      <th>27033</th>\n",
       "      <td>7839272661752</td>\n",
       "      <td>5679978</td>\n",
       "      <td>M</td>\n",
       "      <td>2016-05-10 10:51:53+00:00</td>\n",
       "      <td>2016-05-09 00:00:00+00:00</td>\n",
       "      <td>38</td>\n",
       "      <td>RESISTÊNCIA</td>\n",
       "      <td>0</td>\n",
       "      <td>0</td>\n",
       "      <td>0</td>\n",
       "      <td>0</td>\n",
       "      <td>1</td>\n",
       "      <td>0</td>\n",
       "      <td>Yes</td>\n",
       "      <td>-1 days</td>\n",
       "    </tr>\n",
       "    <tr>\n",
       "      <th>55226</th>\n",
       "      <td>7896293967868</td>\n",
       "      <td>5715660</td>\n",
       "      <td>F</td>\n",
       "      <td>2016-05-18 14:50:41+00:00</td>\n",
       "      <td>2016-05-17 00:00:00+00:00</td>\n",
       "      <td>19</td>\n",
       "      <td>SANTO ANTÔNIO</td>\n",
       "      <td>0</td>\n",
       "      <td>0</td>\n",
       "      <td>0</td>\n",
       "      <td>0</td>\n",
       "      <td>1</td>\n",
       "      <td>0</td>\n",
       "      <td>Yes</td>\n",
       "      <td>-1 days</td>\n",
       "    </tr>\n",
       "    <tr>\n",
       "      <th>64175</th>\n",
       "      <td>24252258389979</td>\n",
       "      <td>5664962</td>\n",
       "      <td>F</td>\n",
       "      <td>2016-05-05 13:43:58+00:00</td>\n",
       "      <td>2016-05-04 00:00:00+00:00</td>\n",
       "      <td>22</td>\n",
       "      <td>CONSOLAÇÃO</td>\n",
       "      <td>0</td>\n",
       "      <td>0</td>\n",
       "      <td>0</td>\n",
       "      <td>0</td>\n",
       "      <td>0</td>\n",
       "      <td>0</td>\n",
       "      <td>Yes</td>\n",
       "      <td>-1 days</td>\n",
       "    </tr>\n",
       "    <tr>\n",
       "      <th>71533</th>\n",
       "      <td>998231581612122</td>\n",
       "      <td>5686628</td>\n",
       "      <td>F</td>\n",
       "      <td>2016-05-11 13:49:20+00:00</td>\n",
       "      <td>2016-05-05 00:00:00+00:00</td>\n",
       "      <td>81</td>\n",
       "      <td>SANTO ANTÔNIO</td>\n",
       "      <td>0</td>\n",
       "      <td>0</td>\n",
       "      <td>0</td>\n",
       "      <td>0</td>\n",
       "      <td>0</td>\n",
       "      <td>0</td>\n",
       "      <td>Yes</td>\n",
       "      <td>-6 days</td>\n",
       "    </tr>\n",
       "    <tr>\n",
       "      <th>72362</th>\n",
       "      <td>3787481966821</td>\n",
       "      <td>5655637</td>\n",
       "      <td>M</td>\n",
       "      <td>2016-05-04 06:50:57+00:00</td>\n",
       "      <td>2016-05-03 00:00:00+00:00</td>\n",
       "      <td>7</td>\n",
       "      <td>TABUAZEIRO</td>\n",
       "      <td>0</td>\n",
       "      <td>0</td>\n",
       "      <td>0</td>\n",
       "      <td>0</td>\n",
       "      <td>0</td>\n",
       "      <td>0</td>\n",
       "      <td>Yes</td>\n",
       "      <td>-1 days</td>\n",
       "    </tr>\n",
       "  </tbody>\n",
       "</table>\n",
       "</div>"
      ],
      "text/plain": [
       "             PatientId  AppointmentID Gender              ScheduledDay  \\\n",
       "27033    7839272661752        5679978      M 2016-05-10 10:51:53+00:00   \n",
       "55226    7896293967868        5715660      F 2016-05-18 14:50:41+00:00   \n",
       "64175   24252258389979        5664962      F 2016-05-05 13:43:58+00:00   \n",
       "71533  998231581612122        5686628      F 2016-05-11 13:49:20+00:00   \n",
       "72362    3787481966821        5655637      M 2016-05-04 06:50:57+00:00   \n",
       "\n",
       "                 AppointmentDay  Age  Neighbourhood  Scholarship  \\\n",
       "27033 2016-05-09 00:00:00+00:00   38    RESISTÊNCIA            0   \n",
       "55226 2016-05-17 00:00:00+00:00   19  SANTO ANTÔNIO            0   \n",
       "64175 2016-05-04 00:00:00+00:00   22     CONSOLAÇÃO            0   \n",
       "71533 2016-05-05 00:00:00+00:00   81  SANTO ANTÔNIO            0   \n",
       "72362 2016-05-03 00:00:00+00:00    7     TABUAZEIRO            0   \n",
       "\n",
       "       Hipertension  Diabetes  Alcoholism  Handcap  SMS_received No-show  \\\n",
       "27033             0         0           0        1             0     Yes   \n",
       "55226             0         0           0        1             0     Yes   \n",
       "64175             0         0           0        0             0     Yes   \n",
       "71533             0         0           0        0             0     Yes   \n",
       "72362             0         0           0        0             0     Yes   \n",
       "\n",
       "      time_diff  \n",
       "27033   -1 days  \n",
       "55226   -1 days  \n",
       "64175   -1 days  \n",
       "71533   -6 days  \n",
       "72362   -1 days  "
      ]
     },
     "execution_count": 18,
     "metadata": {},
     "output_type": "execute_result"
    }
   ],
   "source": [
    "#lets find the negative times delta rows in time_diff. They don't have any physical meaning and must be deleted\n",
    "df_noshow[df_noshow['time_diff']<'0 days']"
   ]
  },
  {
   "cell_type": "code",
   "execution_count": 19,
   "metadata": {},
   "outputs": [],
   "source": [
    "#dropping negative time_diff rows\n",
    "df_noshow.drop([27033,55226,64175,71533,72362], inplace = True)"
   ]
  },
  {
   "cell_type": "code",
   "execution_count": 20,
   "metadata": {},
   "outputs": [
    {
     "data": {
      "text/plain": [
       "Timedelta('0 days 00:00:00')"
      ]
     },
     "execution_count": 20,
     "metadata": {},
     "output_type": "execute_result"
    }
   ],
   "source": [
    "# Test to make sure there is no negative value in 'time_diff'.\n",
    "df_noshow['time_diff'].min()"
   ]
  },
  {
   "cell_type": "markdown",
   "metadata": {},
   "source": [
    "# How to test if any of the data columns has an effect on the No-show rate:\n",
    "\n",
    "Hypothesis testing is a valuable statistical tool to test our idea."
   ]
  },
  {
   "cell_type": "markdown",
   "metadata": {},
   "source": [
    "## Making inferences about all the patients who go to the clinic\n",
    "considering this is a sample dataset from the total population of the paitients who go to the clinic, we can use this data to make inferences about the population. We are going to use the hypothesis testing to compare the proportion(rate) of no_show in a variety of circumstances to understand what parameteres can be considered significant enough to effect the no_show rate based on our sample set.\n",
    "\n",
    "### Comparing 2 Population Proportions\n",
    "### Hypothesis testing\n",
    "Our basic assumptions will typically be:\n",
    "\n",
    "H0:p1=p2\n",
    "\n",
    "H1:p1>p2 \n",
    "\n",
    "or\n",
    "\n",
    "H0:p1=p2\n",
    "\n",
    "H1:p1<p2\n",
    "\n",
    "we always use the industry accepted significance level of 5%:\n",
    "\n",
    "alpha = 5%\n",
    "\n",
    "    which means, ZL=Z0.05=1.645"
   ]
  },
  {
   "cell_type": "code",
   "execution_count": 22,
   "metadata": {},
   "outputs": [],
   "source": [
    "# Hypothesis test function\n",
    "\n",
    "def proportion_hyp_test(x1,x2,n1,n2):\n",
    "    \n",
    "    \"\"\"Compares the success ratio of 2 population with 95% confidence\n",
    "     x1= success frequency in population 1\n",
    "     x2= success frequency in population 2\n",
    "     n1= number of data points in population 1\n",
    "     n2= number of data points in population 2\"\"\"\n",
    "    \n",
    "    PooledProp = (x1+x2)/(n1+n2)\n",
    "    p1=x1/n1\n",
    "    p2=x2/n2\n",
    "    denominator = PooledProp*(1-PooledProp)*(1/n1+1/n2)\n",
    "    if denominator<0:\n",
    "        print('wrong input data, make sure numbers are correct and', \n",
    "              'you have follow this sequence: x1, x2,n1,n2')\n",
    "        return\n",
    "    \n",
    "    Zstat= (p1-p2)/math.sqrt(PooledProp*(1-PooledProp)*(1/n1+1/n2))\n",
    "    if Zstat>1.645:\n",
    "        print('Statistically Speaking, Population 1 has significantly higher proportion than Population 2')\n",
    "    elif Zstat<-1.645:\n",
    "        print('Statistically Speaking, Population 2 has significantly higher proportion than Population 1')\n",
    "    else:\n",
    "        print('At95% confidence level, Population 1 and Population 2 are not statistically different') \n",
    "    return"
   ]
  },
  {
   "cell_type": "code",
   "execution_count": 23,
   "metadata": {},
   "outputs": [
    {
     "data": {
      "text/plain": [
       "Diabetes  No-show\n",
       "0         No         81694\n",
       "          Yes        20884\n",
       "1         No          6513\n",
       "          Yes         1430\n",
       "Name: No-show, dtype: int64"
      ]
     },
     "execution_count": 23,
     "metadata": {},
     "output_type": "execute_result"
    }
   ],
   "source": [
    "df_noshow.groupby(['Diabetes']) ['No-show'].value_counts()"
   ]
  },
  {
   "cell_type": "code",
   "execution_count": 24,
   "metadata": {},
   "outputs": [
    {
     "name": "stdout",
     "output_type": "stream",
     "text": [
      "Statistically Speaking, Population 1 has significantly higher proportion than Population 2\n"
     ]
    }
   ],
   "source": [
    "# Population 1: Non-Diabetese and no show, Population 2: Diabetes and no shows\n",
    "proportion_hyp_test(x1=20889,n1=81695+20889,x2=1430,n2=1430+6513)"
   ]
  },
  {
   "cell_type": "code",
   "execution_count": 25,
   "metadata": {},
   "outputs": [
    {
     "data": {
      "text/plain": [
       "Hipertension  No-show\n",
       "0             No         70178\n",
       "              Yes        18542\n",
       "1             No         18029\n",
       "              Yes         3772\n",
       "Name: No-show, dtype: int64"
      ]
     },
     "execution_count": 25,
     "metadata": {},
     "output_type": "execute_result"
    }
   ],
   "source": [
    "df_noshow.groupby(['Hipertension']) ['No-show'].value_counts()"
   ]
  },
  {
   "cell_type": "code",
   "execution_count": 26,
   "metadata": {},
   "outputs": [
    {
     "name": "stdout",
     "output_type": "stream",
     "text": [
      "Statistically Speaking, Population 1 has significantly higher proportion than Population 2\n"
     ]
    }
   ],
   "source": [
    "# Population 1: Non-Hypertension and no show, Population 2: Hypertension and no shows\n",
    "proportion_hyp_test(x1=18547,n1=18547+70179,x2=3772,n2=18029+3772)"
   ]
  },
  {
   "cell_type": "code",
   "execution_count": 27,
   "metadata": {},
   "outputs": [
    {
     "data": {
      "text/plain": [
       "Scholarship  No-show\n",
       "0            No         79924\n",
       "             Yes        19736\n",
       "1            No          8283\n",
       "             Yes         2578\n",
       "Name: No-show, dtype: int64"
      ]
     },
     "execution_count": 27,
     "metadata": {},
     "output_type": "execute_result"
    }
   ],
   "source": [
    "df_noshow.groupby(['Scholarship']) ['No-show'].value_counts()"
   ]
  },
  {
   "cell_type": "code",
   "execution_count": 28,
   "metadata": {},
   "outputs": [
    {
     "name": "stdout",
     "output_type": "stream",
     "text": [
      "Statistically Speaking, Population 2 has significantly higher proportion than Population 1\n"
     ]
    }
   ],
   "source": [
    "# Population 1: Non-Scholarship and no show, Population 2: Scholarship and no shows\n",
    "proportion_hyp_test(x1=19741,n1=19741+79925,x2=2578,n2=2578+8283)"
   ]
  },
  {
   "cell_type": "markdown",
   "metadata": {},
   "source": [
    "### Q1: Are people with pre existing consitions showing up to their appointments at a higher rate?\n",
    "\n",
    "If patient's known problems are having no-scholarships, having hypertension and having diabetes, we already know that a patient with each one of these problems has a lower chace of missing their appointments. \n",
    "\n",
    "Now, we want to know if having more problems equates lower rate of missing an appointment. In other words, if a patient has 2 of the above problems, is it reasonable to think that she/he has a lower chance of missing an appointment?\n",
    "\n",
    "To do it, we compare these populations:\n",
    "\n",
    "- Population 1: People with no problems\n",
    "\n",
    "- Population 2: People with one of the 3 possible problems\n",
    "\n",
    "- Population 3: People with 2 of the 3 possible problems\n",
    "\n",
    "- Population 4: People with all 3 problems"
   ]
  },
  {
   "cell_type": "code",
   "execution_count": 29,
   "metadata": {},
   "outputs": [
    {
     "data": {
      "text/plain": [
       "Scholarship  Hipertension  Diabetes  No-show\n",
       "0            0             0         No         62343\n",
       "                                     Yes        16082\n",
       "                           1         No          1064\n",
       "                                     Yes          254\n",
       "             1             0         No         11514\n",
       "                                     Yes         2347\n",
       "                           1         No          5003\n",
       "                                     Yes         1053\n",
       "1            0             0         No          6667\n",
       "                                     Yes         2171\n",
       "                           1         No           104\n",
       "                                     Yes           35\n",
       "             1             0         No          1170\n",
       "                                     Yes          284\n",
       "                           1         No           342\n",
       "                                     Yes           88\n",
       "Name: No-show, dtype: int64"
      ]
     },
     "execution_count": 29,
     "metadata": {},
     "output_type": "execute_result"
    }
   ],
   "source": [
    "# Number of people who showed up with regards of Diabetes, Hipertension and whether they have Scholarship. This is used in hypothesis test.\n",
    "df_noshow.groupby(['Scholarship', 'Hipertension', 'Diabetes']) ['No-show'].value_counts()"
   ]
  },
  {
   "cell_type": "code",
   "execution_count": 30,
   "metadata": {},
   "outputs": [],
   "source": [
    "x1=2171\n",
    "n1=6667+x1\n",
    "x2=16087+35+284\n",
    "n2=62344+104+1170+x2\n",
    "x3=254+2347+88\n",
    "n3=1064+11514+342+x3\n",
    "x4=1053\n",
    "n4=5003+x4"
   ]
  },
  {
   "cell_type": "code",
   "execution_count": 31,
   "metadata": {},
   "outputs": [
    {
     "name": "stdout",
     "output_type": "stream",
     "text": [
      "Statistically Speaking, Population 1 has significantly higher proportion than Population 2\n"
     ]
    }
   ],
   "source": [
    "proportion_hyp_test(x1,x2,n1,n2)"
   ]
  },
  {
   "cell_type": "code",
   "execution_count": 32,
   "metadata": {},
   "outputs": [
    {
     "name": "stdout",
     "output_type": "stream",
     "text": [
      "Statistically Speaking, Population 1 has significantly higher proportion than Population 2\n"
     ]
    }
   ],
   "source": [
    "proportion_hyp_test(x2,x3,n2,n3)"
   ]
  },
  {
   "cell_type": "code",
   "execution_count": 33,
   "metadata": {},
   "outputs": [
    {
     "name": "stdout",
     "output_type": "stream",
     "text": [
      "At95% confidence level, Population 1 and Population 2 are not statistically different\n"
     ]
    }
   ],
   "source": [
    "proportion_hyp_test(x3,x4,n3,n4)"
   ]
  },
  {
   "cell_type": "markdown",
   "metadata": {},
   "source": [
    "### Answer of Q1\n",
    "Yes, there is a clear relationship between the show up rate and the pre existing health problems.\n",
    "- we can see that peaple with at least one known problem have a higher chance of showing up to their appointments. \n",
    "- Interestingly, if a patient has 2 known problems, then he/she is significantly higher chance of showing up to the appointment\n",
    "- However, there is no difference between patients with 2 or 3 known problems in terms of showing up to their appointments"
   ]
  },
  {
   "cell_type": "markdown",
   "metadata": {},
   "source": [
    "### Q2: Does the time difference between booking and the appointment has any effect on people showing up?\n",
    "\n",
    "- The time_diff column with time_delta format needs to be converted to a numeric parameter, representing number of days between booking and the appointment and use it to create a flag for diffent time legnths.\n",
    "- this flag will be used in grouping no_show data and will be investigated to see if peaple who have booked at an earlier dates are more likely not to show up to their appointments"
   ]
  },
  {
   "cell_type": "code",
   "execution_count": 34,
   "metadata": {},
   "outputs": [],
   "source": [
    "# Remove any other characters in the 'time_diff' values than number of the days.\n",
    "df_noshow['time_diff']=df_noshow['time_diff'].astype('str').apply(lambda x: x.replace('days', '').replace(' ', '').replace('00:00:00.000000000',''))"
   ]
  },
  {
   "cell_type": "code",
   "execution_count": 35,
   "metadata": {},
   "outputs": [],
   "source": [
    "# Convert the data type from time_delta to Integer\n",
    "df_noshow['time_diff']=df_noshow['time_diff'].astype(int)"
   ]
  },
  {
   "cell_type": "code",
   "execution_count": 36,
   "metadata": {},
   "outputs": [
    {
     "data": {
      "text/plain": [
       "dtype('int32')"
      ]
     },
     "execution_count": 36,
     "metadata": {},
     "output_type": "execute_result"
    }
   ],
   "source": [
    "# Test the datatype change above.\n",
    "df_noshow['time_diff'].dtypes"
   ]
  },
  {
   "cell_type": "code",
   "execution_count": 37,
   "metadata": {},
   "outputs": [
    {
     "data": {
      "text/plain": [
       "array(['SameDay', 'Week', 'Month', 'Month+'], dtype=object)"
      ]
     },
     "execution_count": 37,
     "metadata": {},
     "output_type": "execute_result"
    }
   ],
   "source": [
    "# Make a new column named 'time_diff_flag' to categorize the 'time_diff'\n",
    "flag=df_noshow['time_diff'].copy(deep=True)\n",
    "#flag= np.where(flag < 1, np.nan, flag)\n",
    "flag[(flag>=1) & (flag<=7)] = 7\n",
    "flag[(flag>=8) & (flag<31)] =30\n",
    "flag[(flag>=31)]=90\n",
    "\n",
    "flag.replace(0, 'SameDay', inplace = True)\n",
    "flag.replace(7, 'Week', inplace = True)\n",
    "flag.replace(30, 'Month', inplace = True)\n",
    "flag.replace(90, 'Month+', inplace = True)\n",
    "df_noshow['time_diff_flag']= flag\n",
    "df_noshow['time_diff_flag'].unique()"
   ]
  },
  {
   "cell_type": "code",
   "execution_count": 38,
   "metadata": {},
   "outputs": [
    {
     "data": {
      "image/png": "[encoded data removed]",
      "text/plain": [
       "<Figure size 576x576 with 1 Axes>"
      ]
     },
     "metadata": {},
     "output_type": "display_data"
    }
   ],
   "source": [
    "# show relationship between the number of people who showed up with the time difference between the scheduled and appoinment days.\n",
    "df_noshow.groupby('time_diff_flag') ['No-show'].value_counts().plot(kind='pie', title='No-show vs time differences between the Scheduled and Appointment days',figsize=(8,8));"
   ]
  },
  {
   "cell_type": "markdown",
   "metadata": {},
   "source": [
    "It seems on the pie chart, the people who booked their appointments on the same day showed up more than the others. Therefore, the best way to show it is hypothesis test to be able to speak statistically."
   ]
  },
  {
   "cell_type": "code",
   "execution_count": 39,
   "metadata": {},
   "outputs": [
    {
     "data": {
      "text/plain": [
       "time_diff_flag  No-show\n",
       "Month           No         20071\n",
       "                Yes         9325\n",
       "Month+          No          6953\n",
       "                Yes         3425\n",
       "SameDay         No         36770\n",
       "                Yes         1792\n",
       "Week            No         24413\n",
       "                Yes         7772\n",
       "Name: No-show, dtype: int64"
      ]
     },
     "execution_count": 39,
     "metadata": {},
     "output_type": "execute_result"
    }
   ],
   "source": [
    "# Number of people who showed up by time_diff_flag to be used in hypothesis test.\n",
    "df_noshow.groupby('time_diff_flag') ['No-show'].value_counts()"
   ]
  },
  {
   "cell_type": "code",
   "execution_count": 40,
   "metadata": {},
   "outputs": [
    {
     "name": "stdout",
     "output_type": "stream",
     "text": [
      "Statistically Speaking, Population 2 has significantly higher proportion than Population 1\n"
     ]
    }
   ],
   "source": [
    "# Time for Hypothesis Testing\n",
    "# Population 1: Same day Booking\n",
    "# Population 2: 1 Week ago Booking\n",
    "proportion_hyp_test(x1=1792,n1=1792+36771,x2=7772,n2=7772+24413)"
   ]
  },
  {
   "cell_type": "code",
   "execution_count": 41,
   "metadata": {},
   "outputs": [
    {
     "name": "stdout",
     "output_type": "stream",
     "text": [
      "Statistically Speaking, Population 2 has significantly higher proportion than Population 1\n"
     ]
    }
   ],
   "source": [
    "# lets test week old and month  old\n",
    "# Population 1: 1 Week ago Booking\n",
    "# Population 2: 1 month ago Booking\n",
    "proportion_hyp_test(x1=7772,n1=7772+24413, x2 = 9325,n2=9325+20071)"
   ]
  },
  {
   "cell_type": "code",
   "execution_count": 42,
   "metadata": {},
   "outputs": [
    {
     "name": "stdout",
     "output_type": "stream",
     "text": [
      "Statistically Speaking, Population 2 has significantly higher proportion than Population 1\n"
     ]
    }
   ],
   "source": [
    "# lets compare month old and and more than 1 month old bookings\n",
    "# Population 1: 1 month ago Booking\n",
    "# Population 2: More than month old Booking\n",
    "proportion_hyp_test(x1 = 9325,n1=9325+20071, x2 = 3425,n2 = 3425+6953)"
   ]
  },
  {
   "cell_type": "markdown",
   "metadata": {},
   "source": [
    "### Answer of Q2\n",
    "Yes. Above analysis shows that from an statistical view point, we can support with 95% confidence that Peaple who booked an appointment more than a month ago are more likely to miss their appointments as compared to people who booked within a week from their appointments. Similarly, we can also support that people who book an appointment on the same day are more likely to show up compared to people who booked on an earlier date.\n",
    "Generally speaking, we can say that the older a booking date is, the more likely it becomes for the patients to miss the appointment."
   ]
  },
  {
   "cell_type": "markdown",
   "metadata": {},
   "source": [
    "### Q3: How sending or not sending an SMS can impact on missing an appointment?\n",
    "In this part, we have excluded the same day bookings because no SMS was sent to them. We are going to test if sending an SMS improves the rate at which patients show up to their appointments. We will do that for 3 groups of patients seperately:\n",
    "- Group 1: Paitients who booked within the last week\n",
    "- Group 2: Paitients who booked withn the last month\n",
    "- Group 3: Paitients who booked more than a month ago"
   ]
  },
  {
   "cell_type": "code",
   "execution_count": 43,
   "metadata": {},
   "outputs": [
    {
     "data": {
      "text/plain": [
       "time_diff_flag  SMS_received  No-show\n",
       "Month           0             No          7651\n",
       "                              Yes         4221\n",
       "                1             No         12420\n",
       "                              Yes         5104\n",
       "Month+          0             No          2479\n",
       "                              Yes         1489\n",
       "                1             No          4474\n",
       "                              Yes         1936\n",
       "SameDay         0             No         36770\n",
       "                              Yes         1792\n",
       "Week            0             No         15609\n",
       "                              Yes         5028\n",
       "                1             No          8804\n",
       "                              Yes         2744\n",
       "Name: No-show, dtype: int64"
      ]
     },
     "execution_count": 43,
     "metadata": {},
     "output_type": "execute_result"
    }
   ],
   "source": [
    "# Number of people who showed up by time_diff_flag and SMS_received to be used in hypothesis test.\n",
    "# Also, there is obvious that the people who booked their appointments at the same day, have not received SMS.\n",
    "df_noshow.groupby(['time_diff_flag','SMS_received']) ['No-show'].value_counts()"
   ]
  },
  {
   "cell_type": "code",
   "execution_count": 44,
   "metadata": {},
   "outputs": [
    {
     "data": {
      "image/png": "[encoded data removed]",
      "text/plain": [
       "<Figure size 576x576 with 1 Axes>"
      ]
     },
     "metadata": {},
     "output_type": "display_data"
    }
   ],
   "source": [
    "# show relationship between the number of people who showed up with the time_diff_flag and whether they received SMS.\n",
    "df_noshow.groupby(['time_diff_flag','SMS_received']) ['No-show'].value_counts().plot(kind='pie', title='No-show vs time_diff_flag and SMS_received',autopct='%1.1f%%',figsize=(8,8));"
   ]
  },
  {
   "cell_type": "code",
   "execution_count": 45,
   "metadata": {},
   "outputs": [
    {
     "name": "stdout",
     "output_type": "stream",
     "text": [
      "At95% confidence level, Population 1 and Population 2 are not statistically different\n"
     ]
    }
   ],
   "source": [
    "# Time for Hypothesis Testing\n",
    "# Population 1: 1 week old booking who received SMS\n",
    "# Population 2: 1 week old booking who DIDN'T received SMS\n",
    "proportion_hyp_test(x1=2744,n1=2744+8804,x2=5028,n2=5028+15609)"
   ]
  },
  {
   "cell_type": "code",
   "execution_count": 46,
   "metadata": {},
   "outputs": [
    {
     "name": "stdout",
     "output_type": "stream",
     "text": [
      "Statistically Speaking, Population 2 has significantly higher proportion than Population 1\n"
     ]
    }
   ],
   "source": [
    "# Now lets test 1 month old bookings\n",
    "# Population 1: 1 month old booking who received SMS\n",
    "# Population 2: 1 month old booking who DIDN'T received SMS\n",
    "proportion_hyp_test(x1=5104,n1=5104+12420,x2=4221,n2=4221+7651)"
   ]
  },
  {
   "cell_type": "code",
   "execution_count": 47,
   "metadata": {},
   "outputs": [
    {
     "name": "stdout",
     "output_type": "stream",
     "text": [
      "Statistically Speaking, Population 2 has significantly higher proportion than Population 1\n"
     ]
    }
   ],
   "source": [
    "# Now lets test more than 1 month old bookings\n",
    "# Population 1: more than 1 month old booking who received SMS\n",
    "# Population 2: more than 1 month old booking who DIDN'T received SMS\n",
    "proportion_hyp_test(x1=1936,n1=1936+4474,x2=1489,n2=1489+2479)"
   ]
  },
  {
   "cell_type": "markdown",
   "metadata": {},
   "source": [
    "### Answer of Q3\n",
    "The results are very interesting:\n",
    "- Receiving a message (SMS) didn't decrease the No-show rate for patients who have booked within the last week. However it has decreased the No-show rate among the patients who have booked their appointment more than a week in advance ( Month and Month+).\n",
    "- In conclusion, the clinic can save some money by not sending SMS to those who have booked within the last week.\n",
    "- Instead, they can invest in sending SMS to those patients who have booked within the last month or earlier to decrease their no show rate."
   ]
  },
  {
   "cell_type": "markdown",
   "metadata": {},
   "source": [
    "<a id='conclusions'></a>\n",
    "## Conclusions"
   ]
  },
  {
   "cell_type": "markdown",
   "metadata": {
    "collapsed": true
   },
   "source": [
    "This dataset is aquired over a few monthes in clinics in Brasil. Since the data doesn't span over at least one year, we can't see the potential seasonal health issues. Beside that, there dosnt seem to be any other issue with the sample.\n",
    "\n",
    "Similar to any other statistical inference, we are using a sample to make inferences about the population. Below conclusions are based on a 95% confidence interval hypothesis testing of different featurs in the dataset.It is imparitive to remember that there is a 5% chance that a different dataset would result in a different set of conclusions. \n",
    "\n",
    "In conclusion, and with the caveats mentioned above, we observed that he following factors are imporant for us in order to predict if the patient would show up:\n",
    "\n",
    "- Time difference between scheduled and appointment dates\n",
    "- Alcholism\n",
    "- Diabetes\n",
    "- Having Scholarship or not\n",
    "- Hypertension\n",
    "\n",
    "Based on the available dataset we have also noticed that statistically speaking, patients who have 2 or 3 problems( alcoholism, Diabetes and lack of scholarship) whould have a better show up rate than others. \n",
    "\n",
    "We also concluded that receiving an SMS would improve the rate of show-up for patients who made their appointments more than one week in advance."
   ]
  }
 ],
 "metadata": {
  "kernelspec": {
   "display_name": "Python 3",
   "language": "python",
   "name": "python3"
  },
  "language_info": {
   "codemirror_mode": {
    "name": "ipython",
    "version": 3
   },
   "file_extension": ".py",
   "mimetype": "text/x-python",
   "name": "python",
   "nbconvert_exporter": "python",
   "pygments_lexer": "ipython3",
   "version": "3.6.7"
  }
 },
 "nbformat": 4,
 "nbformat_minor": 2
}
